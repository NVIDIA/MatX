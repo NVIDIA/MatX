{
 "cells": [
  {
   "cell_type": "markdown",
   "metadata": {},
   "source": [
    "# Profiling Notebook\n",
    "\n",
    "## Profiling in MatX\n",
    "\n",
    "### Why we profile\n",
    "### When to profile "
   ]
  },
  {
   "cell_type": "markdown",
   "metadata": {},
   "source": [
    "## NVIDIA Profiling Tools\n",
    "\n",
    "### Nsight Systems GUI\n",
    "### Nsight Systems CLI"
   ]
  },
  {
   "cell_type": "markdown",
   "metadata": {},
   "source": [
    "## MatX Profiling tools\n",
    "\n",
    "### Automatic Ranges\n",
    "\n",
    "### User Defined Ranges"
   ]
  },
  {
   "cell_type": "code",
   "execution_count": null,
   "metadata": {
    "vscode": {
     "languageId": "cpp"
    }
   },
   "outputs": [],
   "source": [
    "// example of how to define your own ranges both scoped and manual "
   ]
  },
  {
   "cell_type": "markdown",
   "metadata": {},
   "source": [
    "\n",
    "### Profile Level \n",
    "\n",
    "### Compile Time Control"
   ]
  },
  {
   "cell_type": "markdown",
   "metadata": {},
   "source": [
    "## Profiling Radar Application\n",
    "\n",
    "### Standalone PC Ops\n",
    "\n",
    "### Fused PC Ops\n",
    "\n",
    "### GPU Ops\n"
   ]
  }
 ],
 "metadata": {
  "language_info": {
   "name": "python"
  }
 },
 "nbformat": 4,
 "nbformat_minor": 2
}
