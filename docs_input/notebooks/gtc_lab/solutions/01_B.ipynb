{
 "cells": [
  {
   "cell_type": "markdown",
   "metadata": {},
   "source": [
    "## Exercise 01_B: Operator Views\n",
    "Let's demonstrate your new skills in creating views of a tensor. Using the pre-defined `baseTensor2D`, please create the following views:\n",
    "\n",
    "- The complete first row of the `baseTensor2D`\n",
    "- A 2D square of 4 elements, composed of the first 2 rows and 2 columns of data\n",
    "- Modify the (1,1) element of baseTensor2D through the view corresponding to assign it the value of 87.\n",
    "\n",
    "Print the output at each stage to ensure your views are working as expected."
   ]
  },
  {
   "cell_type": "code",
   "execution_count": null,
   "metadata": {},
   "outputs": [],
   "source": [
    "%%run_matx\n",
    "\n",
    "// Make tensor\n",
    "auto baseTensor2D = matx::make_tensor<int>({3,5});\n",
    "baseTensor2D.SetVals({\n",
    "  {1, 2, 3, 4, 5},\n",
    "  {6, 7, 8, 9, 10},\n",
    "  {11, 12, 13, 14, 15}\n",
    "});\n",
    "\n",
    "\n",
    "// Slice the first row of baseTensor\n",
    "auto first_row = matx::slice<1>(baseTensor2D, {0, 0}, {matx::matxDropDim, matx::matxEnd});\n",
    "matx::print(first_row);\n",
    "\n",
    "// Create a 2D square of 4 elements, composed of the first 2 rows and 2 columns of data\n",
    "auto td_square = matx::slice(baseTensor2D, {0, 0}, {2, 2});\n",
    "matx::print(td_square);\n",
    "\n",
    "// Assign the value 87 to the (1,1) element of baseTensor2D and observe the change in each view\n",
    "baseTensor2D(1, 1) = 87;\n",
    "matx::print(baseTensor2D);\n",
    "matx::print(first_row);\n",
    "matx::print(td_square);\n"
   ]
  }
 ],
 "metadata": {
  "kernelspec": {
   "display_name": "Python 3",
   "name": "python3"
  }
 },
 "nbformat": 4,
 "nbformat_minor": 2
}
