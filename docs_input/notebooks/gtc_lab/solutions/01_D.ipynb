{
 "cells": [
  {
   "cell_type": "markdown",
   "metadata": {},
   "source": [
    "## Exercise 01_D: Transforms and generators:\n",
    "\n",
    "For this example we will generate random data to verify the distribution of our generator functions. Please implement the following:\n",
    "\n",
    "- Generate three floating point 3D tensors with sizes 2x4x8, 2x8x8, and 2x4x8\n",
    "- Populate the first two tensors with random values from a uniform distribution\n",
    "- Perform a batched matrix multiply of the first two tensors and store the output in the third tensor\n",
    "- Find the minimum values of each inner matrix of C (there should be 2 of them) and print the results\n",
    "\n",
    "Ensure that the minimum values printed match what you would expect in the third tensor."
   ]
  },
  {
   "cell_type": "code",
   "execution_count": null,
   "metadata": {},
   "outputs": [],
   "source": [
    "%%run_matx\n",
    "\n",
    "// Create floating point tensors with specified sizes\n",
    "auto A = matx::make_tensor<float>({2, 4, 8});\n",
    "auto B = matx::make_tensor<float>({2, 8, 8});\n",
    "auto C = matx::make_tensor<float>({2, 4, 8});\n",
    "\n",
    "// Generate random data\n",
    "(A = matx::random<float>(A.Shape(), matx::UNIFORM)).run();\n",
    "(B = matx::random<float>(B.Shape(), matx::UNIFORM)).run();\n",
    "\n",
    "matx::print(A);\n",
    "matx::print(B);\n",
    "\n",
    "// Perform matmul and print\n",
    "(C = matx::matmul(A, B)).run();\n",
    "matx::print(C);\n",
    "\n",
    "// Find min values and print\n",
    "auto min_rows = matx::min(C, {1,2});\n",
    "matx::print(min_rows);"
   ]
  }
 ],
 "metadata": {
  "kernelspec": {
   "display_name": "Python 3",
   "name": "python3"
  }
 },
 "nbformat": 4,
 "nbformat_minor": 2
}
