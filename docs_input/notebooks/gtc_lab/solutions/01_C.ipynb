{
 "cells": [
  {
   "cell_type": "markdown",
   "metadata": {},
   "source": [
    "### Exercise 01_C: Operators\n",
    "Please use the provided A and B tensors to complete the following set of operations:\n",
    "\n",
    "- Multiply `A` by its scalar weight factor `aScale` to populate tensor `C`\n",
    "- In-place subtract `bOffset` from the matrix `B`\n",
    "- Add the `A` and `B` Tensors to populate tensor `D`\n",
    "\n",
    "Keep in mind that rather than storing the result of an expression in a tensor, you may pass it to the `print` function directly."
   ]
  },
  {
   "cell_type": "code",
   "execution_count": null,
   "metadata": {},
   "outputs": [],
   "source": [
    "%%run_matx\n",
    "\n",
    "auto A = matx::make_tensor<int>({2, 3});\n",
    "auto B = matx::make_tensor<int>({2, 3});\n",
    "auto C = matx::make_tensor<int>({2, 3});\n",
    "auto D = matx::make_tensor<int>({2, 2});\n",
    "\n",
    "A.SetVals({ {1, 2, 3},\n",
    "            {4, 5, 6}\n",
    "          });\n",
    "\n",
    "(B = A).run();\n",
    "matx::print(A);\n",
    "matx::print(B);\n",
    "\n",
    "int aScale = 5;\n",
    "int bOffset = 2;\n",
    "\n",
    "// Scale A by aScale\n",
    "matx::print(A * aScale);\n",
    "\n",
    "// Subtract B by bOffset\n",
    "matx::print(B - bOffset);\n",
    "\n",
    "// Add A and B Tensors\n",
    "(D = A + B).run();\n",
    "matx::print(D);"
   ]
  }
 ],
 "metadata": {
  "kernelspec": {
   "display_name": "Python 3",
   "name": "python3"
  }
 },
 "nbformat": 4,
 "nbformat_minor": 2
}
