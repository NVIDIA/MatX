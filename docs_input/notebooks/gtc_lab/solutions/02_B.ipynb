{
 "cells": [
  {
   "cell_type": "markdown",
   "metadata": {},
   "source": [
    "# Exercise: Black Scholes Fusion\n",
    "\n",
    "The Black Scholes model provides a fantastic example of a real-world set of equations that greatly benefits from operator fusion. Black Scholes provides both a complex set of expressions that provide significant readability improvements if expressed as individual expressions, but also benefits from fusion of its separate operational parts. Below is a brief description of the Black Scholes models and its composite terms:\n",
    "\n",
    "\n",
    "$$\n",
    "C(S_0, K, T) = S_0 \\,\\Phi\\bigl(d_1\\bigr) \\;-\\; K \\, e^{-rT} \\,\\Phi\\bigl(d_2\\bigr),\n",
    "$$\n",
    "\n",
    "where\n",
    "\n",
    "$$\n",
    "d_1 = \\frac{\\ln\\!\\bigl(\\tfrac{S_0}{K}\\bigr) + \\bigl(r + \\tfrac{\\sigma^2}{2}\\bigr)T}{\\sigma \\sqrt{T}},\n",
    "\\quad\n",
    "d_2 = d_1 - \\sigma \\sqrt{T}.\n",
    "$$\n",
    "\n",
    "Here:\n",
    "- \\( S_0 \\) is the current stock price\n",
    "- \\( K \\) is the strike price\n",
    "- \\( T \\) is the time to maturity (in years)\n",
    "- \\( r \\) is the risk-free interest rate (annualized)\n",
    "- \\( \\sigma \\) is the volatility of the underlying stock (annualized)\n",
    "- \\( \\Phi(\\cdot) \\) is the cumulative distribution function (CDF) of the standard normal distribution\n",
    "\n",
    "\n",
    "\n",
    "We can easily translate this by expressing each of the terms defined above as separate MatX operators, then fusing the execution of those operators in the final run command.\n",
    "\n",
    "Try breaking the equation below into the following operators:\n",
    "\n",
    "```\n",
    "VsqrtT  = V * sqrt(T);\n",
    "d1      = (log(S / K) + (r + 0.5 * V * V) * T) / VsqrtT ;\n",
    "d2      = d1 - VsqrtT;\n",
    "cdf_d1  = normcdf(d1);\n",
    "cdf_d2  = normcdf(d2);\n",
    "expRT   = exp(-1 * r * T); \n",
    "```"
   ]
  },
  {
   "cell_type": "code",
   "execution_count": null,
   "metadata": {
    "vscode": {
     "languageId": "plaintext"
    }
   },
   "outputs": [],
   "source": [
    "%%run_matx\n",
    "auto exec = matx::CUDAExecutor();\n",
    "\n",
    "using dtype = double;\n",
    "matx::index_t input_size = 100;\n",
    "\n",
    "\n",
    "// ---- declare input data ---- //\n",
    "auto K = matx::make_tensor<dtype>({input_size});\n",
    "auto S = matx::make_tensor<dtype>({input_size});\n",
    "auto V = matx::make_tensor<dtype>({input_size});\n",
    "auto r = matx::make_tensor<dtype>({input_size});\n",
    "auto T = matx::make_tensor<dtype>({input_size});\n",
    "auto output = matx::make_tensor<dtype>({input_size});  \n",
    "\n",
    "// ---- populate the data ---- //\n",
    "(K = matx::random<float>(K.Shape(), matx::NORMAL)).run();\n",
    "(S = matx::random<float>(S.Shape(), matx::NORMAL)).run();\n",
    "(V = matx::random<float>(V.Shape(), matx::NORMAL)).run();\n",
    "(r = matx::random<float>(r.Shape(), matx::NORMAL)).run();\n",
    "(T = matx::random<float>(T.Shape(), matx::NORMAL)).run();\n",
    "(output = matx::zeros({input_size})).run(exec);\n",
    "exec.sync();\n",
    "\n",
    "auto VsqrtT = V * sqrt(T);\n",
    "auto d1     = (log(S / K) + (r + 0.5 * V * V) * T) / VsqrtT ;\n",
    "auto d2     = d1 - VsqrtT;\n",
    "auto cdf_d1 = matx::normcdf(d1);\n",
    "auto cdf_d2 = matx::normcdf(d2);\n",
    "auto expRT  = exp(-1 * r * T); \n",
    "exec.start_timer();\n",
    "(output = S * cdf_d1 - K * expRT * cdf_d2).run(exec);\n",
    "exec.stop_timer();\n",
    "std::cout <<\"Fused Runtime: \" << exec.get_time_ms() << \" ms\" << std::endl;"
   ]
  }
 ],
 "metadata": {
  "language_info": {
   "name": "python"
  }
 },
 "nbformat": 4,
 "nbformat_minor": 2
}
