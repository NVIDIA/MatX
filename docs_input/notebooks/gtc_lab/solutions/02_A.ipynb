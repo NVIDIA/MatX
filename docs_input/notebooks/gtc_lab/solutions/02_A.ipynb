{
 "cells": [
  {
   "cell_type": "markdown",
   "metadata": {},
   "source": [
    "# Exercise 02_A : Fusion Basics\n",
    "\n",
    "Use the following equations to create an implemention that utilizes fusion and reuse optimize underlying code. \n",
    "\n",
    "`result = A*C + B/D + ((D-C)/B)/(A*C) `\n",
    "\n",
    "An example implementation is given with all operations done individually; how much faster can you make it?"
   ]
  },
  {
   "cell_type": "code",
   "execution_count": null,
   "metadata": {},
   "outputs": [],
   "source": [
    "%%run_matx\n",
    "auto exec = matx::CUDAExecutor();\n",
    "\n",
    "matx::index_t size_x = 128;\n",
    "matx::index_t size_y = 256;\n",
    "\n",
    "auto A      = matx::make_tensor<float>({size_x, size_y});\n",
    "auto B      = matx::make_tensor<float>({size_x, size_y});\n",
    "auto C      = matx::make_tensor<float>({size_x, size_y});\n",
    "auto D      = matx::make_tensor<float>({size_x, size_y});\n",
    "auto result = matx::make_tensor<float>({size_x, size_y});\n",
    "\n",
    "// ---- populate the data ---- //\n",
    "(A = matx::random<float>(A.Shape(), matx::NORMAL)).run();\n",
    "(B = matx::random<float>(B.Shape(), matx::NORMAL)).run();\n",
    "(C = matx::random<float>(C.Shape(), matx::NORMAL)).run();\n",
    "(D = matx::random<float>(D.Shape(), matx::NORMAL)).run();\n",
    "(result = matx::zeros({size_x, size_y})).run(exec);\n",
    "exec.sync();\n",
    "\n",
    "// ---- all crammed together ---- //\n",
    "exec.start_timer();\n",
    "(result = A * C  + B / D + ((D - C) / B) / A * C).run(exec); \n",
    "exec.stop_timer();\n",
    "std::cout <<\"One Equation Runtime: \" << exec.get_time_ms() << \" ms\" << std::endl;\n",
    "\n",
    "// ---- ideal implementation with reuse of operators ---- //\n",
    "exec.start_timer();\n",
    "auto term1 = A * C; \n",
    "auto term2 = B / D;\n",
    "auto term3 = (D - C) / B;\n",
    "auto term4 = term3 / term1;\n",
    "(result = term1 + term2 + term4).run(exec);\n",
    "exec.stop_timer();\n",
    "std::cout <<\"Fused Operation Runtime: \" << exec.get_time_ms() << \" ms\" << std::endl;  "
   ]
  }
 ],
 "metadata": {
  "kernelspec": {
   "display_name": "Python 3 (ipykernel)",
   "language": "python",
   "name": "python3"
  }
 },
 "nbformat": 4,
 "nbformat_minor": 2
}
