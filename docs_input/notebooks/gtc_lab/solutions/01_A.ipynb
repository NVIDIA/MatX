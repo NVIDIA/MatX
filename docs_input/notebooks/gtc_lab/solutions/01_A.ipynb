{
 "cells": [
  {
   "cell_type": "markdown",
   "metadata": {},
   "source": [
    "## Exercise 01_A: Creating your first tensor\n",
    "\n",
    "Try defining a new integer tensor of size `{3, 5}` and initialize its values in increasing order from 0 to 15. Once defined, print your tensor to ensure the values are as expected. Next, updated element (1,2) to 101. Print the tensor again to ensure the update was valid."
   ]
  },
  {
   "cell_type": "code",
   "execution_count": null,
   "metadata": {},
   "outputs": [],
   "source": [
    "%%run_matx\n",
    "\n",
    "// Declare a tensor\n",
    "auto myTensor = matx::make_tensor<int>({3, 5});\n",
    "\n",
    "// SetVals in myTensor\n",
    "myTensor.SetVals({{0, 1, 2, 3, 4}, {5, 6, 7, 8, 9}, {10, 11, 12, 13, 14}});\n",
    "\n",
    "// Print your new tensor\n",
    "matx::print(myTensor);\n",
    "\n",
    "// Update the value at {1,1} to 101\n",
    "myTensor(1, 2) = 101;\n",
    "\n",
    "// Print the tensor again\n",
    "matx::print(myTensor);\n",
    "\n",
    "// An alternative solution is to use `linspace` and treat the original tensor as a flat 1D tensor. `linspace` takes the total elements, start, and end.\n",
    "auto reshaped_op = matx::reshape(matx::linspace<0>({15}, 0, 14), {3, 5});\n",
    "matx::print(reshaped_op);\n"
   ]
  }
 ],
 "metadata": {
  "kernelspec": {
   "display_name": "Python 3",
   "name": "python3"
  }
 },
 "nbformat": 4,
 "nbformat_minor": 2
}
