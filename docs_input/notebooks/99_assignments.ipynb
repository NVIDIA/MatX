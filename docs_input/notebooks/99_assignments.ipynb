{
 "cells": [
  {
   "cell_type": "markdown",
   "source": [
    "# Assignments\n",
    "Use this notebook to compile and run each of the examples you're editing. As you edit each of the cu files, switch back to this notebook and click the run button on that example to see the output."
   ],
   "metadata": {}
  },
  {
   "cell_type": "markdown",
   "source": [
    "## Assignment 1\n",
    "Assignment 1 goes through basic tensor operations that were learned in the 01_introduction notebook. You will walk through creating and slicing tensors with verification points at each step."
   ],
   "metadata": {}
  },
  {
   "cell_type": "code",
   "execution_count": null,
   "source": [
    "!./exercises/compile_and_run.sh example1_assignment1"
   ],
   "outputs": [],
   "metadata": {}
  },
  {
   "cell_type": "markdown",
   "source": [
    "## Assignment 2\n",
    "Assignment 2 covers operators learned in the 02_operators notebook. You will walk through basic tensor operations, storing these in tensor views, and verifying the results."
   ],
   "metadata": {}
  },
  {
   "cell_type": "code",
   "execution_count": null,
   "source": [
    "!./exercises/compile_and_run.sh example2_assignment1"
   ],
   "outputs": [],
   "metadata": {}
  },
  {
   "cell_type": "markdown",
   "source": [
    "## Assignment 3\n",
    "Assignment 3 covers executors learned in the 03_executors notebook. You will create a tensor filled with random numbers, and perform FFTs across a specific dimension. Next, two reductions and a scaling operation are performed to normalize the tensor."
   ],
   "metadata": {}
  },
  {
   "cell_type": "code",
   "execution_count": null,
   "source": [
    "!./exercises/compile_and_run.sh example3_assignment1"
   ],
   "outputs": [],
   "metadata": {}
  }
 ],
 "metadata": {
  "language_info": {
   "name": "python"
  }
 },
 "nbformat": 4,
 "nbformat_minor": 2
}